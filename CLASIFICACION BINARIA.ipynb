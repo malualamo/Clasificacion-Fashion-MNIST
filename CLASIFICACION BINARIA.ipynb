{
 "cells": [
  {
   "cell_type": "code",
   "execution_count": 368,
   "id": "f8f27abb-c01e-41c0-9f5b-0c9c8e7f3be4",
   "metadata": {},
   "outputs": [],
   "source": [
    "import numpy as np\n",
    "import pandas as pd\n",
    "import matplotlib.pyplot as plt\n",
    "import seaborn as sns"
   ]
  },
  {
   "cell_type": "code",
   "execution_count": 369,
   "id": "fdef9e18-7c41-41cc-8082-585ba5de71e0",
   "metadata": {},
   "outputs": [],
   "source": [
    "df_fashion = pd.read_csv(\"fashion-mnist.csv\")"
   ]
  },
  {
   "cell_type": "markdown",
   "id": "6ffa3ef9-9fad-44ef-9a0f-55b4c271c82a",
   "metadata": {},
   "source": [
    "A partir del dataframe original, construir un nuevo dataframe que contenga sólo al subconjunto de imágenes correspondientes a las remeras y a los pantalones"
   ]
  },
  {
   "cell_type": "code",
   "execution_count": 370,
   "id": "4f565f79-c589-496f-a357-be453168d3d3",
   "metadata": {},
   "outputs": [],
   "source": [
    "df_pant_rem = df_fashion[(df_fashion['label']==0) | (df_fashion['label']==1)]"
   ]
  },
  {
   "cell_type": "code",
   "execution_count": 211,
   "id": "858080ad-8fb7-417b-b4b4-3e9989aafdb2",
   "metadata": {},
   "outputs": [
    {
     "data": {
      "text/plain": [
       "0    6000\n",
       "1    6000\n",
       "Name: label, dtype: int64"
      ]
     },
     "execution_count": 211,
     "metadata": {},
     "output_type": "execute_result"
    }
   ],
   "source": [
    "# Vemos que esta balanceado\n",
    "df_pant_rem['label'].value_counts()"
   ]
  },
  {
   "cell_type": "markdown",
   "id": "8e05c718-58aa-4d2e-b0e5-aa02ce2a7df1",
   "metadata": {},
   "source": [
    "# MODELADO"
   ]
  },
  {
   "cell_type": "code",
   "execution_count": 212,
   "id": "5fc59c63-7a32-47fe-8d9a-e384c7a51142",
   "metadata": {},
   "outputs": [],
   "source": [
    "from sklearn.model_selection import train_test_split\n",
    "\n",
    "X = df_pant_rem.drop('label', axis=1)\n",
    "y = df_pant_rem['label']\n",
    "X_train, X_test, y_train, y_test = train_test_split(X, y,test_size=0.2)"
   ]
  },
  {
   "cell_type": "markdown",
   "id": "715a7781",
   "metadata": {},
   "source": [
    "Sobre este subconjunto de datos, analizar cuántas muestras se tienen y determinar si está balanceado en función de la clase a predecir."
   ]
  },
  {
   "cell_type": "code",
   "execution_count": 213,
   "id": "4ecbe26b",
   "metadata": {
    "scrolled": true
   },
   "outputs": [
    {
     "data": {
      "text/plain": [
       "1    4849\n",
       "0    4751\n",
       "Name: label, dtype: int64"
      ]
     },
     "execution_count": 213,
     "metadata": {},
     "output_type": "execute_result"
    }
   ],
   "source": [
    "y_train.value_counts()"
   ]
  },
  {
   "cell_type": "markdown",
   "id": "334b5d98",
   "metadata": {},
   "source": [
    "Vemos que los conjuntos de datos estan balanceados."
   ]
  },
  {
   "cell_type": "markdown",
   "id": "52139772",
   "metadata": {},
   "source": [
    "Ajustar un modelo de KNN considerando pocos atributos, por ejemplo 3. Probar con distintos conjuntos de 3 atributos y comparar resultados. Analizar utilizando otras cantidades de atributos."
   ]
  },
  {
   "cell_type": "code",
   "execution_count": 214,
   "id": "9426b9dc-6691-4a02-b3f2-7bc238861527",
   "metadata": {},
   "outputs": [],
   "source": [
    "from sklearn.neighbors import KNeighborsClassifier\n",
    "import random"
   ]
  },
  {
   "cell_type": "code",
   "execution_count": 215,
   "id": "ebf59aa3-5f47-43c6-9f2f-29e2643fe372",
   "metadata": {},
   "outputs": [],
   "source": [
    "def tres_atributos_randoms(cantIter, k):   \n",
    "    resultados = []\n",
    "    for i in range(cantIter):\n",
    "        random.seed(i)\n",
    "        pixel1 = 'pixel'+str(random.randint(1,784))\n",
    "        pixel2 = 'pixel'+str(random.randint(1,784))\n",
    "        pixel3 = 'pixel'+str(random.randint(1,784))\n",
    "        X_3rand_train = X_train[[pixel1, pixel2, pixel3]]\n",
    "        X_3rand_test = X_test[[pixel1,pixel2, pixel3]]\n",
    "        neigh = KNeighborsClassifier(k)\n",
    "        neigh.fit(X_3rand_train, y_train)\n",
    "        resultados.append(round(neigh.score(X_3rand_test, y_test),2))\n",
    "    return resultados"
   ]
  },
  {
   "cell_type": "code",
   "execution_count": 216,
   "id": "194b9c98-d84c-482d-adf3-0fa0a3dd82b1",
   "metadata": {
    "scrolled": true
   },
   "outputs": [
    {
     "name": "stdout",
     "output_type": "stream",
     "text": [
      "Con k=  2\n",
      "Valores:  [0.73, 0.52, 0.54, 0.68, 0.86, 0.67, 0.52, 0.71, 0.86, 0.65]\n",
      "Promedio:  0.674\n",
      "Con k=  3\n",
      "Valores:  [0.76, 0.64, 0.59, 0.68, 0.9, 0.71, 0.86, 0.76, 0.88, 0.67]\n",
      "Promedio:  0.7449999999999999\n",
      "Con k=  4\n",
      "Valores:  [0.75, 0.64, 0.61, 0.7, 0.89, 0.7, 0.87, 0.74, 0.88, 0.66]\n",
      "Promedio:  0.744\n",
      "Con k=  5\n",
      "Valores:  [0.79, 0.64, 0.61, 0.69, 0.9, 0.71, 0.86, 0.76, 0.89, 0.67]\n",
      "Promedio:  0.752\n",
      "Con k=  6\n",
      "Valores:  [0.77, 0.65, 0.62, 0.71, 0.9, 0.7, 0.87, 0.77, 0.89, 0.68]\n",
      "Promedio:  0.756\n",
      "Con k=  7\n",
      "Valores:  [0.79, 0.64, 0.61, 0.71, 0.9, 0.72, 0.87, 0.77, 0.89, 0.69]\n",
      "Promedio:  0.759\n",
      "Con k=  8\n",
      "Valores:  [0.78, 0.65, 0.62, 0.71, 0.9, 0.71, 0.87, 0.78, 0.89, 0.69]\n",
      "Promedio:  0.76\n",
      "Con k=  9\n",
      "Valores:  [0.79, 0.64, 0.62, 0.71, 0.91, 0.72, 0.87, 0.78, 0.89, 0.69]\n",
      "Promedio:  0.7620000000000001\n",
      "Con k=  10\n",
      "Valores:  [0.78, 0.65, 0.62, 0.72, 0.9, 0.71, 0.87, 0.77, 0.89, 0.7]\n",
      "Promedio:  0.7610000000000001\n",
      "Con k=  11\n",
      "Valores:  [0.8, 0.64, 0.63, 0.72, 0.91, 0.72, 0.87, 0.78, 0.89, 0.7]\n",
      "Promedio:  0.766\n",
      "Con k=  12\n",
      "Valores:  [0.79, 0.65, 0.63, 0.72, 0.91, 0.72, 0.87, 0.78, 0.89, 0.71]\n",
      "Promedio:  0.767\n",
      "Con k=  13\n",
      "Valores:  [0.8, 0.65, 0.63, 0.72, 0.91, 0.72, 0.87, 0.79, 0.89, 0.71]\n",
      "Promedio:  0.7689999999999999\n",
      "Con k=  14\n",
      "Valores:  [0.8, 0.65, 0.64, 0.73, 0.91, 0.71, 0.87, 0.78, 0.89, 0.71]\n",
      "Promedio:  0.769\n",
      "Con k=  15\n",
      "Valores:  [0.8, 0.65, 0.62, 0.73, 0.9, 0.72, 0.87, 0.78, 0.89, 0.7]\n",
      "Promedio:  0.766\n",
      "Con k=  16\n",
      "Valores:  [0.8, 0.65, 0.63, 0.73, 0.9, 0.71, 0.87, 0.78, 0.89, 0.71]\n",
      "Promedio:  0.767\n",
      "Con k=  17\n",
      "Valores:  [0.8, 0.65, 0.63, 0.73, 0.91, 0.72, 0.87, 0.78, 0.89, 0.71]\n",
      "Promedio:  0.769\n",
      "Con k=  18\n",
      "Valores:  [0.8, 0.65, 0.62, 0.74, 0.91, 0.72, 0.87, 0.78, 0.89, 0.71]\n",
      "Promedio:  0.769\n",
      "Con k=  19\n",
      "Valores:  [0.8, 0.65, 0.62, 0.73, 0.91, 0.72, 0.87, 0.78, 0.89, 0.71]\n",
      "Promedio:  0.768\n",
      "Con k=  20\n",
      "Valores:  [0.8, 0.65, 0.63, 0.74, 0.91, 0.72, 0.87, 0.78, 0.89, 0.71]\n",
      "Promedio:  0.77\n"
     ]
    }
   ],
   "source": [
    "# Probamos con valores de 2 a 10\n",
    "\n",
    "promedios3 = []\n",
    "for i in range(2,21):\n",
    "    print('Con k= ',i)\n",
    "    print('Valores: ', tres_atributos_randoms(10, i))\n",
    "    print('Promedio: ', sum(tres_atributos_randoms(10, i))/10)\n",
    "    promedios3.append(sum(tres_atributos_randoms(10, i))/10)"
   ]
  },
  {
   "cell_type": "code",
   "execution_count": 217,
   "id": "f8aba049",
   "metadata": {},
   "outputs": [
    {
     "data": {
      "image/png": "[encoded data removed]",
      "text/plain": [
       "<Figure size 640x480 with 1 Axes>"
      ]
     },
     "metadata": {},
     "output_type": "display_data"
    }
   ],
   "source": [
    "sns.scatterplot(x=np.arange(2,21), y=promedios3)\n",
    "plt.xticks(np.arange(2,21, 3))\n",
    "plt.axhline(y=0.768, color='green', linestyle='--', label=\"y = 3.7\")\n",
    "plt.show()"
   ]
  },
  {
   "cell_type": "code",
   "execution_count": 218,
   "id": "906d27dc-e7b9-4780-b768-57d507bcab55",
   "metadata": {},
   "outputs": [],
   "source": [
    "def cinco_atributos_random(cantIter, k):  \n",
    "    resultados = []\n",
    "    for i in range(cantIter):\n",
    "        random.seed(i)\n",
    "        pixel1 = 'pixel'+str(random.randint(1,784))\n",
    "        pixel2 = 'pixel'+str(random.randint(1,784))\n",
    "        pixel3 = 'pixel'+str(random.randint(1,784))\n",
    "        pixel4 = 'pixel'+str(random.randint(1,784))\n",
    "        pixel5 = 'pixel'+str(random.randint(1,784))\n",
    "        X_3rand_train = X_train[[pixel1, pixel2, pixel3, pixel4, pixel5]]\n",
    "        X_3rand_test = X_test[[pixel1,pixel2, pixel3, pixel4, pixel5]]\n",
    "        neigh = KNeighborsClassifier(k)\n",
    "        neigh.fit(X_3rand_train, y_train)\n",
    "        resultados.append(round(neigh.score(X_3rand_test, y_test),2))\n",
    "    return resultados"
   ]
  },
  {
   "cell_type": "code",
   "execution_count": 219,
   "id": "a8bd8844",
   "metadata": {
    "scrolled": true
   },
   "outputs": [
    {
     "name": "stdout",
     "output_type": "stream",
     "text": [
      "Con k=  2\n",
      "Valores:  [0.77, 0.82, 0.85, 0.92, 0.88, 0.82, 0.82, 0.8, 0.88, 0.83]\n",
      "Promedio:  0.8390000000000001\n",
      "Con k=  3\n",
      "Valores:  [0.81, 0.85, 0.9, 0.93, 0.91, 0.86, 0.84, 0.85, 0.89, 0.88]\n",
      "Promedio:  0.8720000000000001\n",
      "Con k=  4\n",
      "Valores:  [0.81, 0.85, 0.89, 0.93, 0.91, 0.87, 0.85, 0.84, 0.9, 0.87]\n",
      "Promedio:  0.8720000000000001\n",
      "Con k=  5\n",
      "Valores:  [0.82, 0.85, 0.91, 0.94, 0.91, 0.88, 0.85, 0.85, 0.9, 0.89]\n",
      "Promedio:  0.8799999999999999\n",
      "Con k=  6\n",
      "Valores:  [0.82, 0.86, 0.9, 0.94, 0.91, 0.87, 0.85, 0.85, 0.9, 0.89]\n",
      "Promedio:  0.8789999999999999\n",
      "Con k=  7\n",
      "Valores:  [0.83, 0.86, 0.9, 0.94, 0.92, 0.87, 0.85, 0.85, 0.9, 0.9]\n",
      "Promedio:  0.882\n",
      "Con k=  8\n",
      "Valores:  [0.82, 0.86, 0.9, 0.93, 0.92, 0.87, 0.85, 0.85, 0.91, 0.89]\n",
      "Promedio:  0.8800000000000001\n",
      "Con k=  9\n",
      "Valores:  [0.83, 0.85, 0.91, 0.94, 0.92, 0.87, 0.85, 0.85, 0.9, 0.9]\n",
      "Promedio:  0.882\n",
      "Con k=  10\n",
      "Valores:  [0.83, 0.86, 0.91, 0.94, 0.92, 0.87, 0.85, 0.85, 0.91, 0.89]\n",
      "Promedio:  0.883\n",
      "Con k=  11\n",
      "Valores:  [0.83, 0.85, 0.91, 0.94, 0.91, 0.87, 0.86, 0.85, 0.9, 0.9]\n",
      "Promedio:  0.882\n",
      "Con k=  12\n",
      "Valores:  [0.83, 0.85, 0.91, 0.94, 0.92, 0.87, 0.86, 0.85, 0.9, 0.9]\n",
      "Promedio:  0.883\n",
      "Con k=  13\n",
      "Valores:  [0.83, 0.85, 0.91, 0.94, 0.91, 0.87, 0.86, 0.85, 0.91, 0.9]\n",
      "Promedio:  0.883\n",
      "Con k=  14\n",
      "Valores:  [0.83, 0.85, 0.91, 0.94, 0.92, 0.87, 0.86, 0.85, 0.9, 0.9]\n",
      "Promedio:  0.883\n",
      "Con k=  15\n",
      "Valores:  [0.82, 0.85, 0.91, 0.94, 0.92, 0.87, 0.86, 0.85, 0.91, 0.9]\n",
      "Promedio:  0.883\n",
      "Con k=  16\n",
      "Valores:  [0.83, 0.85, 0.91, 0.94, 0.92, 0.87, 0.86, 0.85, 0.9, 0.9]\n",
      "Promedio:  0.883\n",
      "Con k=  17\n",
      "Valores:  [0.82, 0.85, 0.91, 0.94, 0.91, 0.87, 0.86, 0.85, 0.9, 0.9]\n",
      "Promedio:  0.881\n",
      "Con k=  18\n",
      "Valores:  [0.82, 0.85, 0.91, 0.94, 0.91, 0.87, 0.86, 0.85, 0.9, 0.9]\n",
      "Promedio:  0.881\n",
      "Con k=  19\n",
      "Valores:  [0.82, 0.85, 0.91, 0.94, 0.91, 0.87, 0.86, 0.85, 0.9, 0.9]\n",
      "Promedio:  0.881\n",
      "Con k=  20\n",
      "Valores:  [0.82, 0.86, 0.91, 0.94, 0.91, 0.87, 0.86, 0.85, 0.9, 0.9]\n",
      "Promedio:  0.882\n"
     ]
    }
   ],
   "source": [
    "# Probamos con valores de 2 a 10\n",
    "\n",
    "promedios5 = []\n",
    "for i in range(2,21):\n",
    "    print('Con k= ',i)\n",
    "    print('Valores: ', cinco_atributos_random(10, i))\n",
    "    print('Promedio: ', sum(cinco_atributos_random(10, i))/10)\n",
    "    promedios5.append(sum(cinco_atributos_random(10, i))/10)"
   ]
  },
  {
   "cell_type": "code",
   "execution_count": 220,
   "id": "eb376d76",
   "metadata": {},
   "outputs": [
    {
     "data": {
      "image/png": "[encoded data removed]",
      "text/plain": [
       "<Figure size 640x480 with 1 Axes>"
      ]
     },
     "metadata": {},
     "output_type": "display_data"
    }
   ],
   "source": [
    "sns.scatterplot(x=np.arange(2,21), y=promedios5)\n",
    "plt.xticks(np.arange(2,21, 3))\n",
    "plt.axhline(y=0.878, color='green', linestyle='--', label=\"y = 3.7\")\n",
    "plt.show()"
   ]
  },
  {
   "cell_type": "markdown",
   "id": "69d46aa4",
   "metadata": {},
   "source": [
    "Comparar modelos de KNN utilizando distintos atributos y distintos valores de k (vecinos). Para el análisis de los resultados, tener en cuenta las medidas de evaluación (por ejemplo, la exactitud) y la cantidad de atributos."
   ]
  },
  {
   "cell_type": "code",
   "execution_count": 221,
   "id": "79d5c9d3",
   "metadata": {},
   "outputs": [
    {
     "data": {
      "image/png": "[encoded data removed]",
      "text/plain": [
       "<Figure size 640x480 with 1 Axes>"
      ]
     },
     "metadata": {},
     "output_type": "display_data"
    }
   ],
   "source": [
    "sns.scatterplot(x=np.arange(2,21), y=promedios5, label='5 pixeles')\n",
    "sns.scatterplot(x=np.arange(2,21), y=promedios3, label='3 pixeles')\n",
    "plt.xticks(np.arange(2,21, 3))\n",
    "plt.axhline(y=0.768, color='green', linestyle='--', label=\"y = 3.7\")\n",
    "plt.axhline(y=0.878, color='green', linestyle='--', label=\"y = 3.7\")\n",
    "plt.show()"
   ]
  },
  {
   "cell_type": "markdown",
   "id": "f96d5d18",
   "metadata": {},
   "source": [
    "Veamos dada una imagen random que predice nuestro modelo."
   ]
  },
  {
   "cell_type": "code",
   "execution_count": 222,
   "id": "1c133061",
   "metadata": {
    "scrolled": true
   },
   "outputs": [
    {
     "data": {
      "text/html": [
       "<style>#sk-container-id-3 {color: black;background-color: white;}#sk-container-id-3 pre{padding: 0;}#sk-container-id-3 div.sk-toggleable {background-color: white;}#sk-container-id-3 label.sk-toggleable__label {cursor: pointer;display: block;width: 100%;margin-bottom: 0;padding: 0.3em;box-sizing: border-box;text-align: center;}#sk-container-id-3 label.sk-toggleable__label-arrow:before {content: \"▸\";float: left;margin-right: 0.25em;color: #696969;}#sk-container-id-3 label.sk-toggleable__label-arrow:hover:before {color: black;}#sk-container-id-3 div.sk-estimator:hover label.sk-toggleable__label-arrow:before {color: black;}#sk-container-id-3 div.sk-toggleable__content {max-height: 0;max-width: 0;overflow: hidden;text-align: left;background-color: #f0f8ff;}#sk-container-id-3 div.sk-toggleable__content pre {margin: 0.2em;color: black;border-radius: 0.25em;background-color: #f0f8ff;}#sk-container-id-3 input.sk-toggleable__control:checked~div.sk-toggleable__content {max-height: 200px;max-width: 100%;overflow: auto;}#sk-container-id-3 input.sk-toggleable__control:checked~label.sk-toggleable__label-arrow:before {content: \"▾\";}#sk-container-id-3 div.sk-estimator input.sk-toggleable__control:checked~label.sk-toggleable__label {background-color: #d4ebff;}#sk-container-id-3 div.sk-label input.sk-toggleable__control:checked~label.sk-toggleable__label {background-color: #d4ebff;}#sk-container-id-3 input.sk-hidden--visually {border: 0;clip: rect(1px 1px 1px 1px);clip: rect(1px, 1px, 1px, 1px);height: 1px;margin: -1px;overflow: hidden;padding: 0;position: absolute;width: 1px;}#sk-container-id-3 div.sk-estimator {font-family: monospace;background-color: #f0f8ff;border: 1px dotted black;border-radius: 0.25em;box-sizing: border-box;margin-bottom: 0.5em;}#sk-container-id-3 div.sk-estimator:hover {background-color: #d4ebff;}#sk-container-id-3 div.sk-parallel-item::after {content: \"\";width: 100%;border-bottom: 1px solid gray;flex-grow: 1;}#sk-container-id-3 div.sk-label:hover label.sk-toggleable__label {background-color: #d4ebff;}#sk-container-id-3 div.sk-serial::before {content: \"\";position: absolute;border-left: 1px solid gray;box-sizing: border-box;top: 0;bottom: 0;left: 50%;z-index: 0;}#sk-container-id-3 div.sk-serial {display: flex;flex-direction: column;align-items: center;background-color: white;padding-right: 0.2em;padding-left: 0.2em;position: relative;}#sk-container-id-3 div.sk-item {position: relative;z-index: 1;}#sk-container-id-3 div.sk-parallel {display: flex;align-items: stretch;justify-content: center;background-color: white;position: relative;}#sk-container-id-3 div.sk-item::before, #sk-container-id-3 div.sk-parallel-item::before {content: \"\";position: absolute;border-left: 1px solid gray;box-sizing: border-box;top: 0;bottom: 0;left: 50%;z-index: -1;}#sk-container-id-3 div.sk-parallel-item {display: flex;flex-direction: column;z-index: 1;position: relative;background-color: white;}#sk-container-id-3 div.sk-parallel-item:first-child::after {align-self: flex-end;width: 50%;}#sk-container-id-3 div.sk-parallel-item:last-child::after {align-self: flex-start;width: 50%;}#sk-container-id-3 div.sk-parallel-item:only-child::after {width: 0;}#sk-container-id-3 div.sk-dashed-wrapped {border: 1px dashed gray;margin: 0 0.4em 0.5em 0.4em;box-sizing: border-box;padding-bottom: 0.4em;background-color: white;}#sk-container-id-3 div.sk-label label {font-family: monospace;font-weight: bold;display: inline-block;line-height: 1.2em;}#sk-container-id-3 div.sk-label-container {text-align: center;}#sk-container-id-3 div.sk-container {/* jupyter's `normalize.less` sets `[hidden] { display: none; }` but bootstrap.min.css set `[hidden] { display: none !important; }` so we also need the `!important` here to be able to override the default hidden behavior on the sphinx rendered scikit-learn.org. See: https://github.com/scikit-learn/scikit-learn/issues/21755 */display: inline-block !important;position: relative;}#sk-container-id-3 div.sk-text-repr-fallback {display: none;}</style><div id=\"sk-container-id-3\" class=\"sk-top-container\"><div class=\"sk-text-repr-fallback\"><pre>KNeighborsClassifier(n_neighbors=10)</pre><b>In a Jupyter environment, please rerun this cell to show the HTML representation or trust the notebook. <br />On GitHub, the HTML representation is unable to render, please try loading this page with nbviewer.org.</b></div><div class=\"sk-container\" hidden><div class=\"sk-item\"><div class=\"sk-estimator sk-toggleable\"><input class=\"sk-toggleable__control sk-hidden--visually\" id=\"sk-estimator-id-3\" type=\"checkbox\" checked><label for=\"sk-estimator-id-3\" class=\"sk-toggleable__label sk-toggleable__label-arrow\">KNeighborsClassifier</label><div class=\"sk-toggleable__content\"><pre>KNeighborsClassifier(n_neighbors=10)</pre></div></div></div></div></div>"
      ],
      "text/plain": [
       "KNeighborsClassifier(n_neighbors=10)"
      ]
     },
     "execution_count": 222,
     "metadata": {},
     "output_type": "execute_result"
    }
   ],
   "source": [
    "neigh = KNeighborsClassifier(10) # k=10 ya que en el grafico anterior vemos que a partir de 10 no suele variar mucho la performance.\n",
    "neigh.fit(X_train, y_train)"
   ]
  },
  {
   "cell_type": "code",
   "execution_count": 223,
   "id": "d682e5e8",
   "metadata": {},
   "outputs": [
    {
     "name": "stdout",
     "output_type": "stream",
     "text": [
      "El valor predecido es: Pantalon\n"
     ]
    },
    {
     "data": {
      "image/png": "[encoded data removed]",
      "text/plain": [
       "<Figure size 640x480 with 1 Axes>"
      ]
     },
     "metadata": {},
     "output_type": "display_data"
    }
   ],
   "source": [
    "indice_random = np.random.randint(1,9600)\n",
    "imagen_rand = X_train.iloc[indice_random]\n",
    "valor_predicho = neigh.predict([imagen_rand])\n",
    "valor_real = y_train.iloc[indice_random]\n",
    "imagen_predicha = 'Remera' if valor_predicho == 0 else 'Pantalon'\n",
    "print(f'El valor predecido es: {imagen_predicha}')\n",
    "plt.imshow(imagen_rand.values.reshape(28,28), cmap='gray', vmin=0, vmax=255) \n",
    "plt.title('Remera' if valor_real == 0 else 'Pantalon')\n",
    "plt.show()"
   ]
  },
  {
   "cell_type": "code",
   "execution_count": 303,
   "id": "9f905c15",
   "metadata": {},
   "outputs": [
    {
     "data": {
      "image/png": "[encoded data removed]",
      "text/plain": [
       "<Figure size 640x480 with 1 Axes>"
      ]
     },
     "metadata": {},
     "output_type": "display_data"
    },
    {
     "data": {
      "image/png": "[encoded data removed]",
      "text/plain": [
       "<Figure size 640x480 with 1 Axes>"
      ]
     },
     "metadata": {},
     "output_type": "display_data"
    },
    {
     "data": {
      "image/png": "[encoded data removed]",
      "text/plain": [
       "<Figure size 640x480 with 1 Axes>"
      ]
     },
     "metadata": {},
     "output_type": "display_data"
    },
    {
     "data": {
      "image/png": "[encoded data removed]",
      "text/plain": [
       "<Figure size 640x480 with 1 Axes>"
      ]
     },
     "metadata": {},
     "output_type": "display_data"
    }
   ],
   "source": [
    "for i in range(100):\n",
    "    indice_random = np.random.randint(1,2400)\n",
    "    imagen_rand = X_test.iloc[indice_random]\n",
    "    valor_predicho = neigh.predict([imagen_rand])\n",
    "    valor_real = y_test.iloc[indice_random]\n",
    "    if (valor_predicho != valor_real):\n",
    "        plt.imshow(imagen_rand.values.reshape(28,28), cmap='gray', vmin=0, vmax=255) \n",
    "        etiqueta_predicha = 'Remera' if valor_predicho == 0 else 'Pantalon'\n",
    "        etiqueta_real = 'Remera' if valor_real == 0 else 'Pantalon'\n",
    "        plt.title('Es ' + etiqueta_real + ' y predijo ' + etiqueta_predicha)\n",
    "        plt.show()"
   ]
  },
  {
   "cell_type": "code",
   "execution_count": 355,
   "id": "1156dcb7",
   "metadata": {},
   "outputs": [],
   "source": [
    "def exactitud(modelo, columnas):\n",
    "    correctos = 0\n",
    "    y_results = modelo.predict(X_test[columnas])\n",
    "    for index in range(y_test.shape[0]):\n",
    "        if y_results[index] == y_test.iloc[index]:\n",
    "            correctos+=1\n",
    "    return correctos/y_test.shape[0]"
   ]
  },
  {
   "cell_type": "code",
   "execution_count": 371,
   "id": "462ede90",
   "metadata": {},
   "outputs": [
    {
     "data": {
      "text/plain": [
       "2400"
      ]
     },
     "execution_count": 371,
     "metadata": {},
     "output_type": "execute_result"
    }
   ],
   "source": [
    "y_test.shape[0]"
   ]
  },
  {
   "cell_type": "code",
   "execution_count": 329,
   "id": "69aa5b6a",
   "metadata": {},
   "outputs": [
    {
     "data": {
      "text/plain": [
       "2370"
      ]
     },
     "execution_count": 329,
     "metadata": {},
     "output_type": "execute_result"
    }
   ],
   "source": [
    "exactitud(neigh, X_test.columns)"
   ]
  },
  {
   "cell_type": "markdown",
   "id": "6ebf3a51",
   "metadata": {},
   "source": [
    "Tomando como instancia positiva los pantalones, vemos cual es la precision y el recall de la clase:"
   ]
  },
  {
   "cell_type": "code",
   "execution_count": 276,
   "id": "f5abbcf3",
   "metadata": {
    "scrolled": true
   },
   "outputs": [],
   "source": [
    "def precision_recall(modelo):\n",
    "    tp = fn = fp = 0\n",
    "    y_results = modelo.predict(X_test)\n",
    "    for index in range(1, y_test.shape[0]):\n",
    "        if (y_test.iloc[index]==1 & y_results[index]==1): tp += 1\n",
    "        if (y_test.iloc[index]==1 & y_results[index]==0): fn += 1\n",
    "        if (y_test.iloc[index]==0 & y_results[index]==1): fp += 1\n",
    "    precision = tp/(tp+fp)\n",
    "    recall = tp/(tp+fn)\n",
    "    return [precision, recall]"
   ]
  },
  {
   "cell_type": "code",
   "execution_count": 277,
   "id": "edc5b66b",
   "metadata": {
    "scrolled": false
   },
   "outputs": [
    {
     "data": {
      "text/plain": [
       "[1.0, 0.4748839172646686]"
      ]
     },
     "execution_count": 277,
     "metadata": {},
     "output_type": "execute_result"
    }
   ],
   "source": [
    "precision_recall(neigh)"
   ]
  },
  {
   "cell_type": "markdown",
   "id": "c82e452e",
   "metadata": {},
   "source": [
    "Obtuvimos una precision del 100% lo que quiere decir que de todas las instancias que clasificamos como pantalones eran pantalones. Y el recall del 47% nos dice que de todos los pantalones el 47% los clasificamos como pantalones."
   ]
  },
  {
   "cell_type": "code",
   "execution_count": 332,
   "id": "8e50677a",
   "metadata": {},
   "outputs": [],
   "source": [
    "def knn_xvecinos(cant_atr, k_vecinos):\n",
    "    random.seed(cant_atr)\n",
    "    columnas = random.sample(list(X_train.columns), cant_atr)\n",
    "    X_columnas_train = X_train[columnas]\n",
    "    X_columnas_test = X_test[columnas]\n",
    "    neigh_k = KNeighborsClassifier(k_vecinos)\n",
    "    neigh_k.fit(X_columnas_train, y_train)\n",
    "    return exactitud(neigh_k, columnas)"
   ]
  },
  {
   "cell_type": "code",
   "execution_count": 356,
   "id": "d12118b6",
   "metadata": {},
   "outputs": [
    {
     "name": "stdout",
     "output_type": "stream",
     "text": [
      "2 2\n",
      "2 3\n",
      "2 4\n",
      "2 5\n",
      "2 6\n",
      "2 7\n",
      "2 8\n",
      "2 9\n",
      "2 10\n",
      "2 11\n",
      "62 2\n",
      "62 3\n",
      "62 4\n",
      "62 5\n",
      "62 6\n",
      "62 7\n",
      "62 8\n",
      "62 9\n",
      "62 10\n",
      "62 11\n",
      "122 2\n",
      "122 3\n",
      "122 4\n",
      "122 5\n",
      "122 6\n",
      "122 7\n",
      "122 8\n",
      "122 9\n",
      "122 10\n",
      "122 11\n",
      "182 2\n",
      "182 3\n",
      "182 4\n",
      "182 5\n",
      "182 6\n",
      "182 7\n",
      "182 8\n",
      "182 9\n",
      "182 10\n",
      "182 11\n",
      "242 2\n",
      "242 3\n",
      "242 4\n",
      "242 5\n",
      "242 6\n",
      "242 7\n",
      "242 8\n",
      "242 9\n",
      "242 10\n",
      "242 11\n",
      "302 2\n",
      "302 3\n",
      "302 4\n",
      "302 5\n",
      "302 6\n",
      "302 7\n",
      "302 8\n",
      "302 9\n",
      "302 10\n",
      "302 11\n",
      "362 2\n",
      "362 3\n",
      "362 4\n",
      "362 5\n",
      "362 6\n",
      "362 7\n",
      "362 8\n",
      "362 9\n",
      "362 10\n",
      "362 11\n",
      "422 2\n",
      "422 3\n",
      "422 4\n",
      "422 5\n",
      "422 6\n",
      "422 7\n",
      "422 8\n",
      "422 9\n",
      "422 10\n",
      "422 11\n",
      "482 2\n",
      "482 3\n",
      "482 4\n",
      "482 5\n",
      "482 6\n",
      "482 7\n",
      "482 8\n",
      "482 9\n",
      "482 10\n",
      "482 11\n",
      "542 2\n",
      "542 3\n",
      "542 4\n",
      "542 5\n",
      "542 6\n",
      "542 7\n",
      "542 8\n",
      "542 9\n",
      "542 10\n",
      "542 11\n",
      "602 2\n",
      "602 3\n",
      "602 4\n",
      "602 5\n",
      "602 6\n",
      "602 7\n",
      "602 8\n",
      "602 9\n",
      "602 10\n",
      "602 11\n",
      "662 2\n",
      "662 3\n",
      "662 4\n",
      "662 5\n",
      "662 6\n",
      "662 7\n",
      "662 8\n",
      "662 9\n",
      "662 10\n",
      "662 11\n",
      "722 2\n",
      "722 3\n",
      "722 4\n",
      "722 5\n",
      "722 6\n",
      "722 7\n",
      "722 8\n",
      "722 9\n",
      "722 10\n",
      "722 11\n",
      "782 2\n",
      "782 3\n",
      "782 4\n",
      "782 5\n",
      "782 6\n",
      "782 7\n",
      "782 8\n",
      "782 9\n",
      "782 10\n",
      "782 11\n"
     ]
    }
   ],
   "source": [
    "resultados = pd.DataFrame(columns=['cant_atr', 'k_vecinos', 'resultado'])\n",
    "for cant_atributos in range(2, 785, 60):\n",
    "    for k_vecinos in range(2,12):\n",
    "        fila = {'cant_atr': cant_atributos, 'k_vecinos': k_vecinos, 'resultado': knn_xvecinos(cant_atributos, k_vecinos)}\n",
    "        resultados = resultados.append(fila, ignore_index=True)\n",
    "        print(cant_atributos, k_vecinos)"
   ]
  },
  {
   "cell_type": "code",
   "execution_count": 357,
   "id": "dc054096",
   "metadata": {},
   "outputs": [
    {
     "data": {
      "text/html": [
       "<div>\n",
       "<style scoped>\n",
       "    .dataframe tbody tr th:only-of-type {\n",
       "        vertical-align: middle;\n",
       "    }\n",
       "\n",
       "    .dataframe tbody tr th {\n",
       "        vertical-align: top;\n",
       "    }\n",
       "\n",
       "    .dataframe thead th {\n",
       "        text-align: right;\n",
       "    }\n",
       "</style>\n",
       "<table border=\"1\" class=\"dataframe\">\n",
       "  <thead>\n",
       "    <tr style=\"text-align: right;\">\n",
       "      <th></th>\n",
       "      <th>cant_atr</th>\n",
       "      <th>k_vecinos</th>\n",
       "      <th>resultado</th>\n",
       "    </tr>\n",
       "  </thead>\n",
       "  <tbody>\n",
       "    <tr>\n",
       "      <th>0</th>\n",
       "      <td>2.0</td>\n",
       "      <td>2.0</td>\n",
       "      <td>0.596250</td>\n",
       "    </tr>\n",
       "    <tr>\n",
       "      <th>1</th>\n",
       "      <td>2.0</td>\n",
       "      <td>3.0</td>\n",
       "      <td>0.587917</td>\n",
       "    </tr>\n",
       "    <tr>\n",
       "      <th>2</th>\n",
       "      <td>2.0</td>\n",
       "      <td>4.0</td>\n",
       "      <td>0.595417</td>\n",
       "    </tr>\n",
       "    <tr>\n",
       "      <th>3</th>\n",
       "      <td>2.0</td>\n",
       "      <td>5.0</td>\n",
       "      <td>0.577917</td>\n",
       "    </tr>\n",
       "    <tr>\n",
       "      <th>4</th>\n",
       "      <td>2.0</td>\n",
       "      <td>6.0</td>\n",
       "      <td>0.599583</td>\n",
       "    </tr>\n",
       "    <tr>\n",
       "      <th>...</th>\n",
       "      <td>...</td>\n",
       "      <td>...</td>\n",
       "      <td>...</td>\n",
       "    </tr>\n",
       "    <tr>\n",
       "      <th>135</th>\n",
       "      <td>782.0</td>\n",
       "      <td>7.0</td>\n",
       "      <td>0.988333</td>\n",
       "    </tr>\n",
       "    <tr>\n",
       "      <th>136</th>\n",
       "      <td>782.0</td>\n",
       "      <td>8.0</td>\n",
       "      <td>0.987500</td>\n",
       "    </tr>\n",
       "    <tr>\n",
       "      <th>137</th>\n",
       "      <td>782.0</td>\n",
       "      <td>9.0</td>\n",
       "      <td>0.988333</td>\n",
       "    </tr>\n",
       "    <tr>\n",
       "      <th>138</th>\n",
       "      <td>782.0</td>\n",
       "      <td>10.0</td>\n",
       "      <td>0.987500</td>\n",
       "    </tr>\n",
       "    <tr>\n",
       "      <th>139</th>\n",
       "      <td>782.0</td>\n",
       "      <td>11.0</td>\n",
       "      <td>0.988333</td>\n",
       "    </tr>\n",
       "  </tbody>\n",
       "</table>\n",
       "<p>140 rows × 3 columns</p>\n",
       "</div>"
      ],
      "text/plain": [
       "     cant_atr  k_vecinos  resultado\n",
       "0         2.0        2.0   0.596250\n",
       "1         2.0        3.0   0.587917\n",
       "2         2.0        4.0   0.595417\n",
       "3         2.0        5.0   0.577917\n",
       "4         2.0        6.0   0.599583\n",
       "..        ...        ...        ...\n",
       "135     782.0        7.0   0.988333\n",
       "136     782.0        8.0   0.987500\n",
       "137     782.0        9.0   0.988333\n",
       "138     782.0       10.0   0.987500\n",
       "139     782.0       11.0   0.988333\n",
       "\n",
       "[140 rows x 3 columns]"
      ]
     },
     "execution_count": 357,
     "metadata": {},
     "output_type": "execute_result"
    }
   ],
   "source": [
    "resultados"
   ]
  },
  {
   "cell_type": "code",
   "execution_count": 365,
   "id": "4383b931",
   "metadata": {},
   "outputs": [
    {
     "data": {
      "text/plain": [
       "<matplotlib.legend.Legend at 0x209eb3ac9d0>"
      ]
     },
     "execution_count": 365,
     "metadata": {},
     "output_type": "execute_result"
    },
    {
     "data": {
      "image/png": "[encoded data removed]",
      "text/plain": [
       "<Figure size 640x480 with 1 Axes>"
      ]
     },
     "metadata": {},
     "output_type": "display_data"
    }
   ],
   "source": [
    "sns.scatterplot(data=resultados[resultados['cant_atr']>3], x='cant_atr', y='resultado', hue='k_vecinos', palette=sns.color_palette(\"viridis\", len(range(2,12))))\n",
    "plt.legend(title='k_vecinos', bbox_to_anchor=(1.05, 1), loc='upper left')"
   ]
  },
  {
   "cell_type": "code",
   "execution_count": 367,
   "id": "1984cbf9",
   "metadata": {},
   "outputs": [
    {
     "data": {
      "text/plain": [
       "cant_atr     602.00000\n",
       "k_vecinos      3.00000\n",
       "resultado      0.99125\n",
       "Name: 101, dtype: float64"
      ]
     },
     "execution_count": 367,
     "metadata": {},
     "output_type": "execute_result"
    }
   ],
   "source": [
    "resultados.loc[resultados['resultado'].idxmax()]"
   ]
  }
 ],
 "metadata": {
  "kernelspec": {
   "display_name": "Python 3 (ipykernel)",
   "language": "python",
   "name": "python3"
  },
  "language_info": {
   "codemirror_mode": {
    "name": "ipython",
    "version": 3
   },
   "file_extension": ".py",
   "mimetype": "text/x-python",
   "name": "python",
   "nbconvert_exporter": "python",
   "pygments_lexer": "ipython3",
   "version": "3.9.13"
  }
 },
 "nbformat": 4,
 "nbformat_minor": 5
}
