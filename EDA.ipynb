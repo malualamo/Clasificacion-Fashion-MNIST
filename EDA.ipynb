{
 "cells": [
  {
   "cell_type": "code",
   "execution_count": 39,
   "id": "055b65fe",
   "metadata": {},
   "outputs": [],
   "source": [
    "import numpy as np\n",
    "import pandas as pd\n",
    "import matplotlib.pyplot as plt\n",
    "import seaborn as sns"
   ]
  },
  {
   "cell_type": "code",
   "execution_count": 110,
   "id": "6502c347",
   "metadata": {},
   "outputs": [],
   "source": [
    "df_fashion_train = pd.read_csv(\"fashion-mnist.csv\")"
   ]
  },
  {
   "cell_type": "code",
   "execution_count": 111,
   "id": "5adccd4e",
   "metadata": {},
   "outputs": [
    {
     "data": {
      "text/plain": [
       "Index(['label'], dtype='object')"
      ]
     },
     "execution_count": 111,
     "metadata": {},
     "output_type": "execute_result"
    }
   ],
   "source": [
    "# Vemos que solo hay una columna que no corresponde a un pixel.\n",
    "df_fashion_train.columns[~df_fashion_train.columns.str.contains(\"pixel\")]"
   ]
  },
  {
   "cell_type": "code",
   "execution_count": 112,
   "id": "05ecc19f",
   "metadata": {},
   "outputs": [
    {
     "data": {
      "text/html": [
       "<div>\n",
       "<style scoped>\n",
       "    .dataframe tbody tr th:only-of-type {\n",
       "        vertical-align: middle;\n",
       "    }\n",
       "\n",
       "    .dataframe tbody tr th {\n",
       "        vertical-align: top;\n",
       "    }\n",
       "\n",
       "    .dataframe thead th {\n",
       "        text-align: right;\n",
       "    }\n",
       "</style>\n",
       "<table border=\"1\" class=\"dataframe\">\n",
       "  <thead>\n",
       "    <tr style=\"text-align: right;\">\n",
       "      <th></th>\n",
       "      <th>label</th>\n",
       "      <th>pixel1</th>\n",
       "      <th>pixel2</th>\n",
       "      <th>pixel3</th>\n",
       "      <th>pixel4</th>\n",
       "      <th>pixel5</th>\n",
       "      <th>pixel6</th>\n",
       "      <th>pixel7</th>\n",
       "      <th>pixel8</th>\n",
       "      <th>pixel9</th>\n",
       "      <th>...</th>\n",
       "      <th>pixel775</th>\n",
       "      <th>pixel776</th>\n",
       "      <th>pixel777</th>\n",
       "      <th>pixel778</th>\n",
       "      <th>pixel779</th>\n",
       "      <th>pixel780</th>\n",
       "      <th>pixel781</th>\n",
       "      <th>pixel782</th>\n",
       "      <th>pixel783</th>\n",
       "      <th>pixel784</th>\n",
       "    </tr>\n",
       "  </thead>\n",
       "  <tbody>\n",
       "    <tr>\n",
       "      <th>0</th>\n",
       "      <td>2</td>\n",
       "      <td>0</td>\n",
       "      <td>0</td>\n",
       "      <td>0</td>\n",
       "      <td>0</td>\n",
       "      <td>0</td>\n",
       "      <td>0</td>\n",
       "      <td>0</td>\n",
       "      <td>0</td>\n",
       "      <td>0</td>\n",
       "      <td>...</td>\n",
       "      <td>0</td>\n",
       "      <td>0</td>\n",
       "      <td>0</td>\n",
       "      <td>0</td>\n",
       "      <td>0</td>\n",
       "      <td>0</td>\n",
       "      <td>0</td>\n",
       "      <td>0</td>\n",
       "      <td>0</td>\n",
       "      <td>0</td>\n",
       "    </tr>\n",
       "    <tr>\n",
       "      <th>1</th>\n",
       "      <td>9</td>\n",
       "      <td>0</td>\n",
       "      <td>0</td>\n",
       "      <td>0</td>\n",
       "      <td>0</td>\n",
       "      <td>0</td>\n",
       "      <td>0</td>\n",
       "      <td>0</td>\n",
       "      <td>0</td>\n",
       "      <td>0</td>\n",
       "      <td>...</td>\n",
       "      <td>0</td>\n",
       "      <td>0</td>\n",
       "      <td>0</td>\n",
       "      <td>0</td>\n",
       "      <td>0</td>\n",
       "      <td>0</td>\n",
       "      <td>0</td>\n",
       "      <td>0</td>\n",
       "      <td>0</td>\n",
       "      <td>0</td>\n",
       "    </tr>\n",
       "    <tr>\n",
       "      <th>2</th>\n",
       "      <td>6</td>\n",
       "      <td>0</td>\n",
       "      <td>0</td>\n",
       "      <td>0</td>\n",
       "      <td>0</td>\n",
       "      <td>0</td>\n",
       "      <td>0</td>\n",
       "      <td>0</td>\n",
       "      <td>5</td>\n",
       "      <td>0</td>\n",
       "      <td>...</td>\n",
       "      <td>0</td>\n",
       "      <td>0</td>\n",
       "      <td>0</td>\n",
       "      <td>30</td>\n",
       "      <td>43</td>\n",
       "      <td>0</td>\n",
       "      <td>0</td>\n",
       "      <td>0</td>\n",
       "      <td>0</td>\n",
       "      <td>0</td>\n",
       "    </tr>\n",
       "    <tr>\n",
       "      <th>3</th>\n",
       "      <td>0</td>\n",
       "      <td>0</td>\n",
       "      <td>0</td>\n",
       "      <td>0</td>\n",
       "      <td>1</td>\n",
       "      <td>2</td>\n",
       "      <td>0</td>\n",
       "      <td>0</td>\n",
       "      <td>0</td>\n",
       "      <td>0</td>\n",
       "      <td>...</td>\n",
       "      <td>3</td>\n",
       "      <td>0</td>\n",
       "      <td>0</td>\n",
       "      <td>0</td>\n",
       "      <td>0</td>\n",
       "      <td>1</td>\n",
       "      <td>0</td>\n",
       "      <td>0</td>\n",
       "      <td>0</td>\n",
       "      <td>0</td>\n",
       "    </tr>\n",
       "    <tr>\n",
       "      <th>4</th>\n",
       "      <td>3</td>\n",
       "      <td>0</td>\n",
       "      <td>0</td>\n",
       "      <td>0</td>\n",
       "      <td>0</td>\n",
       "      <td>0</td>\n",
       "      <td>0</td>\n",
       "      <td>0</td>\n",
       "      <td>0</td>\n",
       "      <td>0</td>\n",
       "      <td>...</td>\n",
       "      <td>0</td>\n",
       "      <td>0</td>\n",
       "      <td>0</td>\n",
       "      <td>0</td>\n",
       "      <td>0</td>\n",
       "      <td>0</td>\n",
       "      <td>0</td>\n",
       "      <td>0</td>\n",
       "      <td>0</td>\n",
       "      <td>0</td>\n",
       "    </tr>\n",
       "  </tbody>\n",
       "</table>\n",
       "<p>5 rows × 785 columns</p>\n",
       "</div>"
      ],
      "text/plain": [
       "   label  pixel1  pixel2  pixel3  pixel4  pixel5  pixel6  pixel7  pixel8  \\\n",
       "0      2       0       0       0       0       0       0       0       0   \n",
       "1      9       0       0       0       0       0       0       0       0   \n",
       "2      6       0       0       0       0       0       0       0       5   \n",
       "3      0       0       0       0       1       2       0       0       0   \n",
       "4      3       0       0       0       0       0       0       0       0   \n",
       "\n",
       "   pixel9  ...  pixel775  pixel776  pixel777  pixel778  pixel779  pixel780  \\\n",
       "0       0  ...         0         0         0         0         0         0   \n",
       "1       0  ...         0         0         0         0         0         0   \n",
       "2       0  ...         0         0         0        30        43         0   \n",
       "3       0  ...         3         0         0         0         0         1   \n",
       "4       0  ...         0         0         0         0         0         0   \n",
       "\n",
       "   pixel781  pixel782  pixel783  pixel784  \n",
       "0         0         0         0         0  \n",
       "1         0         0         0         0  \n",
       "2         0         0         0         0  \n",
       "3         0         0         0         0  \n",
       "4         0         0         0         0  \n",
       "\n",
       "[5 rows x 785 columns]"
      ]
     },
     "execution_count": 112,
     "metadata": {},
     "output_type": "execute_result"
    }
   ],
   "source": [
    "df_fashion_train.head()"
   ]
  },
  {
   "cell_type": "markdown",
   "id": "84336867",
   "metadata": {},
   "source": [
    "Los atributos que nos van a ayudar para predecir la categoria van a ser los pixeles, label va a ser el atributo a predecir por nuestro modelo."
   ]
  },
  {
   "cell_type": "markdown",
   "id": "0bb495c9",
   "metadata": {},
   "source": [
    "Buscamos si hay algunos pixeles que nos sirven mas que otros"
   ]
  },
  {
   "cell_type": "code",
   "execution_count": 113,
   "id": "1d2a4ef9",
   "metadata": {},
   "outputs": [
    {
     "data": {
      "text/plain": [
       "count    785.000000\n",
       "mean      69.954243\n",
       "std       27.358026\n",
       "min        0.094689\n",
       "25%       57.633860\n",
       "50%       81.272858\n",
       "75%       90.480188\n",
       "max      103.576984\n",
       "Name: std, dtype: float64"
      ]
     },
     "execution_count": 113,
     "metadata": {},
     "output_type": "execute_result"
    }
   ],
   "source": [
    "informacion = df_fashion_train.describe().transpose()\n",
    "informacion['std'].describe()"
   ]
  },
  {
   "cell_type": "code",
   "execution_count": 114,
   "id": "40d27e0c",
   "metadata": {},
   "outputs": [],
   "source": [
    "informacion = informacion[informacion['std']<30]\n",
    "lista = list(informacion.index)"
   ]
  },
  {
   "cell_type": "markdown",
   "id": "70e9e5de",
   "metadata": {},
   "source": [
    "Filtramos por esos pixeles"
   ]
  },
  {
   "cell_type": "code",
   "execution_count": 122,
   "id": "ab3ac936",
   "metadata": {},
   "outputs": [],
   "source": [
    "df_fashion_filtrado = df_fashion_train[lista]"
   ]
  },
  {
   "cell_type": "code",
   "execution_count": 116,
   "id": "42d08061",
   "metadata": {},
   "outputs": [],
   "source": [
    "nombre_prenda = {0: \"Remera\", 1: \"Pantalon\", 2: \"Pullover\", 3: \"Vestido\", 4: \"Abrigo\", 5:\"Sandalia\", 6: \"Camisa\", 7:\"Zapatilla\", 8:\"Cartera\", 9:\"Bota\"}"
   ]
  },
  {
   "cell_type": "code",
   "execution_count": 117,
   "id": "f7861f7c",
   "metadata": {
    "scrolled": true
   },
   "outputs": [
    {
     "data": {
      "image/png": "[encoded data removed]",
      "text/plain": [
       "<Figure size 640x480 with 1 Axes>"
      ]
     },
     "metadata": {},
     "output_type": "display_data"
    }
   ],
   "source": [
    "matriz_0 = df_fashion_train.drop(\"label\", axis=1).iloc[1].values.reshape(28,28)\n",
    "plt.imshow(matriz_0, cmap='gray', vmin=0, vmax=255) \n",
    "plt.title(nombre_prenda[df_fashion_train['label'][1]])\n",
    "plt.show()"
   ]
  },
  {
   "cell_type": "code",
   "execution_count": 118,
   "id": "3ab20e2e",
   "metadata": {},
   "outputs": [
    {
     "data": {
      "text/plain": [
       "Text(0.5, 1.0, 'Cartera')"
      ]
     },
     "execution_count": 118,
     "metadata": {},
     "output_type": "execute_result"
    },
    {
     "data": {
      "image/png": "[encoded data removed]",
      "text/plain": [
       "<Figure size 1400x1400 with 9 Axes>"
      ]
     },
     "metadata": {},
     "output_type": "display_data"
    }
   ],
   "source": [
    "# Graficamos uno por cada categoria\n",
    "fig, axs = plt.subplots(3,3, figsize=(14,14))\n",
    "plt.setp(axs, xticks=[], yticks=[]) # Borramos los valores de los ejes para que se vean mas claras las imagenes\n",
    "\n",
    "axs[0,0].imshow(df_fashion_train.drop(\"label\", axis=1).iloc[3].values.reshape(28,28), cmap='gray', vmin=0, vmax=255)\n",
    "axs[0,0].set_title('Remera')\n",
    "\n",
    "axs[0,1].imshow(df_fashion_train.drop(\"label\", axis=1).iloc[29].values.reshape(28,28), cmap='gray', vmin=0, vmax=255)\n",
    "axs[0,1].set_title('Pantalon')\n",
    "\n",
    "axs[0,2].imshow(df_fashion_train.drop(\"label\", axis=1).iloc[0].values.reshape(28,28), cmap='gray', vmin=0, vmax=255)\n",
    "axs[0,2].set_title('Pullover')\n",
    "\n",
    "axs[1,0].imshow(df_fashion_train.drop(\"label\", axis=1).iloc[4].values.reshape(28,28), cmap='gray', vmin=0, vmax=255)\n",
    "axs[1,0].set_title('Vestido')\n",
    "\n",
    "axs[1,1].imshow(df_fashion_train.drop(\"label\", axis=1).iloc[5].values.reshape(28,28), cmap='gray', vmin=0, vmax=255)\n",
    "axs[1,1].set_title('Abrigo')\n",
    "\n",
    "axs[1,2].imshow(df_fashion_train.drop(\"label\", axis=1).iloc[7].values.reshape(28,28), cmap='gray', vmin=0, vmax=255)\n",
    "axs[1,2].set_title('Sandalia')\n",
    "\n",
    "axs[2,0].imshow(df_fashion_train.drop(\"label\", axis=1).iloc[2].values.reshape(28,28), cmap='gray', vmin=0, vmax=255)\n",
    "axs[2,0].set_title('Camisa')\n",
    "\n",
    "axs[2,1].imshow(df_fashion_train.drop(\"label\", axis=1).iloc[21].values.reshape(28,28), cmap='gray', vmin=0, vmax=255)\n",
    "axs[2,1].set_title('Zapatilla')\n",
    "\n",
    "axs[2,2].imshow(df_fashion_train.drop(\"label\", axis=1).iloc[9].values.reshape(28,28), cmap='gray', vmin=0, vmax=255)\n",
    "axs[2,2].set_title('Cartera')\n"
   ]
  },
  {
   "cell_type": "code",
   "execution_count": 119,
   "id": "21648a37",
   "metadata": {},
   "outputs": [],
   "source": [
    "# Me creo lista de pixeles (se podia hacer con columns tambien)\n",
    "lista = []\n",
    "for i in range(1,785):\n",
    "    pixel = 'pixel' + str(i)\n",
    "    lista.append(pixel)\n",
    "    \n",
    "# Chequeo si hay filas que tengan todos los valores iguales\n",
    "iguales = []\n",
    "for i in range(df_fashion_train.shape[0]):\n",
    "    numero = df_fashion_train.iloc[i].nunique()\n",
    "    if numero==1:\n",
    "        iguales.append(i)\n"
   ]
  },
  {
   "cell_type": "code",
   "execution_count": 123,
   "id": "bc446db4",
   "metadata": {},
   "outputs": [],
   "source": [
    "describe = df_fashion_filtrado.describe()"
   ]
  },
  {
   "cell_type": "code",
   "execution_count": 124,
   "id": "130f4b77",
   "metadata": {},
   "outputs": [
    {
     "data": {
      "text/plain": [
       "255.0    731\n",
       "227.0      4\n",
       "233.0      4\n",
       "245.0      3\n",
       "254.0      3\n",
       "239.0      3\n",
       "252.0      2\n",
       "248.0      2\n",
       "230.0      2\n",
       "246.0      2\n",
       "189.0      2\n",
       "250.0      2\n",
       "232.0      1\n",
       "236.0      1\n",
       "249.0      1\n",
       "16.0       1\n",
       "253.0      1\n",
       "244.0      1\n",
       "188.0      1\n",
       "81.0       1\n",
       "237.0      1\n",
       "206.0      1\n",
       "212.0      1\n",
       "211.0      1\n",
       "36.0       1\n",
       "194.0      1\n",
       "219.0      1\n",
       "167.0      1\n",
       "105.0      1\n",
       "180.0      1\n",
       "220.0      1\n",
       "222.0      1\n",
       "224.0      1\n",
       "164.0      1\n",
       "226.0      1\n",
       "170.0      1\n",
       "Name: max, dtype: int64"
      ]
     },
     "execution_count": 124,
     "metadata": {},
     "output_type": "execute_result"
    }
   ],
   "source": [
    "# Chequeamos los rangos\n",
    "describe.loc['min'].value_counts()\n",
    "describe.loc['max'].value_counts()"
   ]
  },
  {
   "cell_type": "code",
   "execution_count": 125,
   "id": "9e686069",
   "metadata": {},
   "outputs": [
    {
     "name": "stdout",
     "output_type": "stream",
     "text": [
      "Correlación entre remera y pantalón: -0.004204362458998397\n",
      "Correlación entre remera y pullover: 0.008354487441899148\n",
      "Correlación entre remera y bota: -0.025806825202094503\n"
     ]
    }
   ],
   "source": [
    "remeras = df_fashion_train[df_fashion_train['label'] == 0]  \n",
    "pantalones = df_fashion_train[df_fashion_train['label'] == 1]\n",
    "pullovers = df_fashion_train[df_fashion_train['label'] == 2]\n",
    "botas = df_fashion_train[df_fashion_train['label'] == 9]\n",
    "\n",
    "# Calculamos el promedio de los pixeles de cada grupo\n",
    "remera_promedio = np.mean(remeras, axis=1)\n",
    "pantalon_promedio = np.mean(pantalones, axis=1)\n",
    "pullover_promedio = np.mean(pullovers, axis=1)\n",
    "bota_promedio = np.mean(botas, axis=1)\n",
    "\n",
    "# Calculamos la correlacion\n",
    "correlacion_remera_pantalon = np.corrcoef(remera_promedio, pantalon_promedio)[0,1]\n",
    "correlacion_remera_pullover = np.corrcoef(remera_promedio, pullover_promedio)[0, 1]\n",
    "correlacion_remera_bota = np.corrcoef(remera_promedio, bota_promedio)[0, 1]\n",
    "\n",
    "print(\"Correlación entre remera y pantalón:\", correlacion_remera_pantalon)\n",
    "print(\"Correlación entre remera y pullover:\", correlacion_remera_pullover)\n",
    "print(\"Correlación entre remera y bota:\", correlacion_remera_bota)"
   ]
  },
  {
   "cell_type": "markdown",
   "id": "7eaf61e0",
   "metadata": {},
   "source": [
    "Vemos que es mas facil diferenciar entre remeras y pantalones o pullovers que remeras y botas. Aunque visualmente podriamos decir que pareceria ser mas dificil diferenciar entre pullovers, remeras y camisas, y mas facil diferenciar entre una remera de una bota por ejemplo."
   ]
  },
  {
   "cell_type": "code",
   "execution_count": 33,
   "id": "1e31ed5a",
   "metadata": {},
   "outputs": [],
   "source": [
    "import random"
   ]
  },
  {
   "cell_type": "code",
   "execution_count": 34,
   "id": "bb26361f",
   "metadata": {},
   "outputs": [
    {
     "data": {
      "text/plain": [
       "(6000, 785)"
      ]
     },
     "execution_count": 34,
     "metadata": {},
     "output_type": "execute_result"
    }
   ],
   "source": [
    "df_fashion_train[df_fashion_train['label']==3].shape"
   ]
  },
  {
   "cell_type": "code",
   "execution_count": 35,
   "id": "4860e754",
   "metadata": {},
   "outputs": [],
   "source": [
    "indices_vestidos = df_fashion_train[df_fashion_train['label']==3].index"
   ]
  },
  {
   "cell_type": "code",
   "execution_count": 36,
   "id": "a0292fcb",
   "metadata": {},
   "outputs": [],
   "source": [
    "vestidos_unicos = df_fashion_train.iloc[indices_vestidos].drop_duplicates()"
   ]
  },
  {
   "cell_type": "code",
   "execution_count": 37,
   "id": "2f432805",
   "metadata": {
    "scrolled": true
   },
   "outputs": [
    {
     "data": {
      "text/plain": [
       "(5997, 785)"
      ]
     },
     "execution_count": 37,
     "metadata": {},
     "output_type": "execute_result"
    }
   ],
   "source": [
    "# Vemos que hay muchos vestidos distintos\n",
    "vestidos_unicos.shape"
   ]
  },
  {
   "cell_type": "code",
   "execution_count": 38,
   "id": "be16d56e",
   "metadata": {},
   "outputs": [
    {
     "data": {
      "text/plain": [
       "Text(0.5, 1.0, 'Vestido 3')"
      ]
     },
     "execution_count": 38,
     "metadata": {},
     "output_type": "execute_result"
    },
    {
     "data": {
      "image/png": "[encoded data removed]",
      "text/plain": [
       "<Figure size 1400x1400 with 3 Axes>"
      ]
     },
     "metadata": {},
     "output_type": "display_data"
    }
   ],
   "source": [
    "# Como no se especifico una semilla, el siguiente codigo se puede ejecutar multiples veces para ver diversos resultados.\n",
    "\n",
    "vestido1 = df_fashion_train.drop(\"label\", axis=1).iloc[indices_vestidos[random.randint(1,6000)]].values.reshape(28,28)\n",
    "vestido2 = df_fashion_train.drop(\"label\", axis=1).iloc[indices_vestidos[random.randint(1,6000)]].values.reshape(28,28)\n",
    "vestido3 = df_fashion_train.drop(\"label\", axis=1).iloc[indices_vestidos[random.randint(1,6000)]].values.reshape(28,28)\n",
    "\n",
    "fig, axs = plt.subplots(1,3, figsize=(14,14))\n",
    "plt.setp(axs, xticks=[], yticks=[]) # Borramos los valores de los ejes para que se vean mas claras las imagenes\n",
    "\n",
    "axs[0].imshow(vestido1, cmap='gray', vmin=0, vmax=255)\n",
    "axs[0].set_title('Vestido 1')\n",
    "\n",
    "axs[1].imshow(vestido2, cmap='gray', vmin=0, vmax=255)\n",
    "axs[1].set_title('Vestido 2')\n",
    "\n",
    "axs[2].imshow(vestido3, cmap='gray', vmin=0, vmax=255)\n",
    "axs[2].set_title('Vestido 3')"
   ]
  }
 ],
 "metadata": {
  "kernelspec": {
   "display_name": "Python 3 (ipykernel)",
   "language": "python",
   "name": "python3"
  },
  "language_info": {
   "codemirror_mode": {
    "name": "ipython",
    "version": 3
   },
   "file_extension": ".py",
   "mimetype": "text/x-python",
   "name": "python",
   "nbconvert_exporter": "python",
   "pygments_lexer": "ipython3",
   "version": "3.9.13"
  }
 },
 "nbformat": 4,
 "nbformat_minor": 5
}
